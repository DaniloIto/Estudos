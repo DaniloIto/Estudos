{
  "nbformat": 4,
  "nbformat_minor": 0,
  "metadata": {
    "colab": {
      "name": "Atividade - SEM3 - COM350 - Introducao a ciencia de dados.ipynb",
      "provenance": [],
      "authorship_tag": "ABX9TyOvEZRKk9AHmoIKW0wbYMZ1",
      "include_colab_link": true
    },
    "kernelspec": {
      "name": "python3",
      "display_name": "Python 3"
    },
    "language_info": {
      "name": "python"
    }
  },
  "cells": [
    {
      "cell_type": "markdown",
      "metadata": {
        "id": "view-in-github",
        "colab_type": "text"
      },
      "source": [
        "<a href=\"https://colab.research.google.com/github/DaniloIto/Estudos/blob/main/Atividade_SEM3_COM350_Introducao_a_ciencia_de_dados.ipynb\" target=\"_parent\"><img src=\"https://colab.research.google.com/assets/colab-badge.svg\" alt=\"Open In Colab\"/></a>"
      ]
    },
    {
      "cell_type": "code",
      "metadata": {
        "id": "TUukaGEVXoR0"
      },
      "source": [
        ""
      ],
      "execution_count": null,
      "outputs": []
    },
    {
      "cell_type": "code",
      "metadata": {
        "id": "vH1fJEAVWNxS"
      },
      "source": [
        "import numpy as np\n"
      ],
      "execution_count": 1,
      "outputs": []
    },
    {
      "cell_type": "markdown",
      "metadata": {
        "id": "wqu3-L-WXIet"
      },
      "source": [
        "Analise a execução do comando dados=np.arange(1,5,2), e veja as afirmações a seguir:\n",
        "```\n",
        "(F) O comando cria um ndarray com 4 elementos.\n",
        "(V) O comando cria um ndarray em que o primeiro elemento é o valor 1.\n",
        "(V) O comando cria um ndarray em que o último valor é 3.\n",
        "(F)A função arange da biblioteca NumPy cria um ndarray com valores aleatórios\n",
        "```\n",
        "\n",
        "---\n",
        "\n"
      ]
    },
    {
      "cell_type": "code",
      "metadata": {
        "colab": {
          "base_uri": "https://localhost:8080/"
        },
        "id": "IBAGa7yEXHbo",
        "outputId": "5de4314f-90e7-4b77-eaa8-671cd3ace9e0"
      },
      "source": [
        "dados=np.arange(1,5,2)\n",
        "dados"
      ],
      "execution_count": 4,
      "outputs": [
        {
          "output_type": "execute_result",
          "data": {
            "text/plain": [
              "array([1, 3])"
            ]
          },
          "metadata": {},
          "execution_count": 4
        }
      ]
    },
    {
      "cell_type": "markdown",
      "metadata": {
        "id": "N_plHCxLYovT"
      },
      "source": [
        "numpy.arange([start, ]stop, [step, ]dtype=None, *, like=None)¶"
      ]
    },
    {
      "cell_type": "code",
      "metadata": {
        "colab": {
          "base_uri": "https://localhost:8080/"
        },
        "id": "GcOQ_HxaY6gM",
        "outputId": "b9f63351-a5a5-4fd0-b4a8-698d92955812"
      },
      "source": [
        "dados2=np.arange(1,50,11)\n",
        "dados2"
      ],
      "execution_count": 6,
      "outputs": [
        {
          "output_type": "execute_result",
          "data": {
            "text/plain": [
              "array([ 1, 12, 23, 34, 45])"
            ]
          },
          "metadata": {},
          "execution_count": 6
        }
      ]
    }
  ]
}